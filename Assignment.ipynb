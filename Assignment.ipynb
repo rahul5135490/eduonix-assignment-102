{
 "cells": [
  {
   "cell_type": "code",
   "execution_count": 1,
   "id": "8d5fafd8",
   "metadata": {},
   "outputs": [],
   "source": [
    "#Create a tuple called data with two values, (1, 2) and (3, 4)"
   ]
  },
  {
   "cell_type": "code",
   "execution_count": 2,
   "id": "42fe0241",
   "metadata": {},
   "outputs": [],
   "source": [
    "t1=(1,2)"
   ]
  },
  {
   "cell_type": "code",
   "execution_count": 3,
   "id": "d820bfd2",
   "metadata": {},
   "outputs": [
    {
     "data": {
      "text/plain": [
       "(1, 2)"
      ]
     },
     "execution_count": 3,
     "metadata": {},
     "output_type": "execute_result"
    }
   ],
   "source": [
    "t1"
   ]
  },
  {
   "cell_type": "code",
   "execution_count": 4,
   "id": "560efa40",
   "metadata": {},
   "outputs": [
    {
     "data": {
      "text/plain": [
       "tuple"
      ]
     },
     "execution_count": 4,
     "metadata": {},
     "output_type": "execute_result"
    }
   ],
   "source": [
    "type(t1)"
   ]
  },
  {
   "cell_type": "code",
   "execution_count": 5,
   "id": "bc3e5fba",
   "metadata": {},
   "outputs": [],
   "source": [
    "t2=(3,4)"
   ]
  },
  {
   "cell_type": "code",
   "execution_count": 6,
   "id": "ca8ad4e4",
   "metadata": {},
   "outputs": [
    {
     "data": {
      "text/plain": [
       "tuple"
      ]
     },
     "execution_count": 6,
     "metadata": {},
     "output_type": "execute_result"
    }
   ],
   "source": [
    "t2\n",
    "type(t2)"
   ]
  },
  {
   "cell_type": "code",
   "execution_count": 7,
   "id": "8cb987bd",
   "metadata": {},
   "outputs": [],
   "source": [
    "#Create the list [4, 3, 2, 1] and assign it to variable numbers."
   ]
  },
  {
   "cell_type": "code",
   "execution_count": 8,
   "id": "1f70ba1c",
   "metadata": {},
   "outputs": [],
   "source": [
    "List=[4,3,2,1]"
   ]
  },
  {
   "cell_type": "code",
   "execution_count": 9,
   "id": "b3c8b319",
   "metadata": {},
   "outputs": [
    {
     "data": {
      "text/plain": [
       "4"
      ]
     },
     "execution_count": 9,
     "metadata": {},
     "output_type": "execute_result"
    }
   ],
   "source": [
    "List[0]"
   ]
  },
  {
   "cell_type": "code",
   "execution_count": 10,
   "id": "1b9626f1",
   "metadata": {},
   "outputs": [],
   "source": [
    "#Create a copy of the number list using [:]"
   ]
  },
  {
   "cell_type": "code",
   "execution_count": 11,
   "id": "c756bbaa",
   "metadata": {},
   "outputs": [],
   "source": [
    "l1=[1,2,3,4,5,6,7,8,9,10]"
   ]
  },
  {
   "cell_type": "code",
   "execution_count": 12,
   "id": "43222cf9",
   "metadata": {},
   "outputs": [
    {
     "data": {
      "text/plain": [
       "[1, 2, 3, 4, 5, 6, 7, 8, 9, 10]"
      ]
     },
     "execution_count": 12,
     "metadata": {},
     "output_type": "execute_result"
    }
   ],
   "source": [
    "l1"
   ]
  },
  {
   "cell_type": "code",
   "execution_count": 13,
   "id": "8af268b7",
   "metadata": {},
   "outputs": [
    {
     "data": {
      "text/plain": [
       "list"
      ]
     },
     "execution_count": 13,
     "metadata": {},
     "output_type": "execute_result"
    }
   ],
   "source": [
    "type(l1)"
   ]
  },
  {
   "cell_type": "code",
   "execution_count": 14,
   "id": "2c47844b",
   "metadata": {},
   "outputs": [],
   "source": [
    "l2=l1[0:4]"
   ]
  },
  {
   "cell_type": "code",
   "execution_count": 15,
   "id": "c49f4302",
   "metadata": {},
   "outputs": [
    {
     "data": {
      "text/plain": [
       "[1, 2, 3, 4]"
      ]
     },
     "execution_count": 15,
     "metadata": {},
     "output_type": "execute_result"
    }
   ],
   "source": [
    "l2"
   ]
  },
  {
   "cell_type": "code",
   "execution_count": 16,
   "id": "f4ee12cd",
   "metadata": {},
   "outputs": [],
   "source": [
    "#Sort the numbers list in numerical order"
   ]
  },
  {
   "cell_type": "code",
   "execution_count": 17,
   "id": "f0cbef3f",
   "metadata": {},
   "outputs": [],
   "source": [
    "L3=[6,4,3,5,6,7,8,9,8]"
   ]
  },
  {
   "cell_type": "code",
   "execution_count": 18,
   "id": "52f732d5",
   "metadata": {},
   "outputs": [
    {
     "data": {
      "text/plain": [
       "[6, 4, 3, 5, 6, 7, 8, 9, 8]"
      ]
     },
     "execution_count": 18,
     "metadata": {},
     "output_type": "execute_result"
    }
   ],
   "source": [
    "L3"
   ]
  },
  {
   "cell_type": "code",
   "execution_count": 19,
   "id": "a34fc336",
   "metadata": {},
   "outputs": [
    {
     "data": {
      "text/plain": [
       "[3, 4, 5, 6, 6, 7, 8, 8, 9]"
      ]
     },
     "execution_count": 19,
     "metadata": {},
     "output_type": "execute_result"
    }
   ],
   "source": [
    "L3.sort(reverse=False)\n",
    "L3"
   ]
  },
  {
   "cell_type": "code",
   "execution_count": 20,
   "id": "785002b9",
   "metadata": {},
   "outputs": [],
   "source": [
    "#Create a tuple \"cardinal_numbers\" with \"first\", \"second\" and \"third\""
   ]
  },
  {
   "cell_type": "code",
   "execution_count": 21,
   "id": "153472d4",
   "metadata": {},
   "outputs": [],
   "source": [
    "cardinal_numbers=(\"first\",\"second\",\"third\")"
   ]
  },
  {
   "cell_type": "code",
   "execution_count": 22,
   "id": "0c2ee207",
   "metadata": {},
   "outputs": [
    {
     "data": {
      "text/plain": [
       "('first', 'second', 'third')"
      ]
     },
     "execution_count": 22,
     "metadata": {},
     "output_type": "execute_result"
    }
   ],
   "source": [
    "cardinal_numbers"
   ]
  },
  {
   "cell_type": "code",
   "execution_count": 23,
   "id": "fbed8b82",
   "metadata": {},
   "outputs": [],
   "source": [
    "# Display the second object in the tuple"
   ]
  },
  {
   "cell_type": "code",
   "execution_count": 24,
   "id": "97d34ec8",
   "metadata": {},
   "outputs": [
    {
     "data": {
      "text/plain": [
       "'second'"
      ]
     },
     "execution_count": 24,
     "metadata": {},
     "output_type": "execute_result"
    }
   ],
   "source": [
    "cardinal_numbers[1]"
   ]
  },
  {
   "cell_type": "code",
   "execution_count": 25,
   "id": "62161958",
   "metadata": {},
   "outputs": [],
   "source": [
    "#Unpack the tuple into three strings and display them"
   ]
  },
  {
   "cell_type": "code",
   "execution_count": 26,
   "id": "e41f4a19",
   "metadata": {},
   "outputs": [],
   "source": [
    "students=(\"ram\",\"shyam\",\"mohan\")\n",
    "student1,student2,student3=students"
   ]
  },
  {
   "cell_type": "code",
   "execution_count": 27,
   "id": "ac39c30b",
   "metadata": {},
   "outputs": [
    {
     "name": "stdout",
     "output_type": "stream",
     "text": [
      "\n",
      "ram\n",
      "shyam\n",
      "mohan\n",
      "\n",
      "\n"
     ]
    }
   ],
   "source": [
    "print(f\"\"\"\n",
    "{student1}\n",
    "{student2}\n",
    "{student3}\n",
    "\n",
    "\"\"\")"
   ]
  },
  {
   "cell_type": "code",
   "execution_count": 28,
   "id": "6160968b",
   "metadata": {},
   "outputs": [],
   "source": [
    "#Create a tuple containing the letters of your name from a string"
   ]
  },
  {
   "cell_type": "code",
   "execution_count": 29,
   "id": "1d3bcc38",
   "metadata": {},
   "outputs": [
    {
     "name": "stdout",
     "output_type": "stream",
     "text": [
      "['R', 'a', 'h', 'u', 'l', ' ', 'S', 'r', 'i', 'v', 'a', 's', 't', 'a', 'v', 'a']\n"
     ]
    }
   ],
   "source": [
    "Name =\"Rahul Srivastava\"\n",
    "tup1=[]\n",
    "for i in Name:\n",
    "    tup1.append(i)\n",
    "print(tup1)"
   ]
  },
  {
   "cell_type": "code",
   "execution_count": null,
   "id": "9906f6d0",
   "metadata": {},
   "outputs": [],
   "source": []
  },
  {
   "cell_type": "code",
   "execution_count": 30,
   "id": "dcb6c1af",
   "metadata": {},
   "outputs": [],
   "source": [
    "tup1.append(i)"
   ]
  },
  {
   "cell_type": "code",
   "execution_count": 31,
   "id": "327ab8ea",
   "metadata": {},
   "outputs": [
    {
     "data": {
      "text/plain": [
       "['R',\n",
       " 'a',\n",
       " 'h',\n",
       " 'u',\n",
       " 'l',\n",
       " ' ',\n",
       " 'S',\n",
       " 'r',\n",
       " 'i',\n",
       " 'v',\n",
       " 'a',\n",
       " 's',\n",
       " 't',\n",
       " 'a',\n",
       " 'v',\n",
       " 'a',\n",
       " 'a']"
      ]
     },
     "execution_count": 31,
     "metadata": {},
     "output_type": "execute_result"
    }
   ],
   "source": [
    "tup1"
   ]
  },
  {
   "cell_type": "code",
   "execution_count": 32,
   "id": "14da91d4",
   "metadata": {},
   "outputs": [],
   "source": [
    "#Check whether or not x is in my_name"
   ]
  },
  {
   "cell_type": "code",
   "execution_count": 33,
   "id": "23e13878",
   "metadata": {},
   "outputs": [],
   "source": [
    "my_name=(\"Rahul Srivastava\")"
   ]
  },
  {
   "cell_type": "code",
   "execution_count": 34,
   "id": "3cb4122c",
   "metadata": {},
   "outputs": [
    {
     "name": "stdout",
     "output_type": "stream",
     "text": [
      "False\n"
     ]
    }
   ],
   "source": [
    "print(\"x\" in my_name )"
   ]
  },
  {
   "cell_type": "code",
   "execution_count": null,
   "id": "38a64a21",
   "metadata": {},
   "outputs": [],
   "source": []
  },
  {
   "cell_type": "code",
   "execution_count": 35,
   "id": "4ca4b2b6",
   "metadata": {},
   "outputs": [],
   "source": [
    "#Check whether or not s is in my_name"
   ]
  },
  {
   "cell_type": "code",
   "execution_count": 36,
   "id": "3a0242ec",
   "metadata": {},
   "outputs": [],
   "source": [
    "my_name=(\"Rahul Srivastava\")"
   ]
  },
  {
   "cell_type": "code",
   "execution_count": 37,
   "id": "ef7f9f7e",
   "metadata": {},
   "outputs": [
    {
     "name": "stdout",
     "output_type": "stream",
     "text": [
      "True\n"
     ]
    }
   ],
   "source": [
    "print(\"s\" in my_name )"
   ]
  },
  {
   "cell_type": "code",
   "execution_count": null,
   "id": "4f19bd71",
   "metadata": {},
   "outputs": [],
   "source": []
  }
 ],
 "metadata": {
  "kernelspec": {
   "display_name": "Python 3 (ipykernel)",
   "language": "python",
   "name": "python3"
  },
  "language_info": {
   "codemirror_mode": {
    "name": "ipython",
    "version": 3
   },
   "file_extension": ".py",
   "mimetype": "text/x-python",
   "name": "python",
   "nbconvert_exporter": "python",
   "pygments_lexer": "ipython3",
   "version": "3.9.13"
  }
 },
 "nbformat": 4,
 "nbformat_minor": 5
}
